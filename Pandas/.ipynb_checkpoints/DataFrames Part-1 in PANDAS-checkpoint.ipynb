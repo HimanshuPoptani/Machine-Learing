{
 "cells": [
  {
   "cell_type": "markdown",
   "metadata": {},
   "source": [
    "# DATAFRAMES\n",
    "### They are the main tools for using pandas"
   ]
  },
  {
   "cell_type": "code",
   "execution_count": 337,
   "metadata": {},
   "outputs": [],
   "source": [
    "import numpy as np\n",
    "import pandas as pd"
   ]
  },
  {
   "cell_type": "code",
   "execution_count": 338,
   "metadata": {},
   "outputs": [],
   "source": [
    "from numpy.random import randn\n",
    "from numpy.random import randint"
   ]
  },
  {
   "cell_type": "code",
   "execution_count": 339,
   "metadata": {},
   "outputs": [],
   "source": [
    "np.random.seed(101) # For getting same random numbers"
   ]
  },
  {
   "cell_type": "markdown",
   "metadata": {},
   "source": [
    "## Using randint in the Dataframe"
   ]
  },
  {
   "cell_type": "code",
   "execution_count": 340,
   "metadata": {},
   "outputs": [
    {
     "data": {
      "text/plain": [
       "array([[11, 17,  6, 11],\n",
       "       [15,  9, 13,  8],\n",
       "       [ 4,  8,  0, 14],\n",
       "       [ 5, 12,  8, 17],\n",
       "       [19, 15,  8, 19]])"
      ]
     },
     "execution_count": 340,
     "metadata": {},
     "output_type": "execute_result"
    }
   ],
   "source": [
    "randint(0,20,20).reshape(5,4)"
   ]
  },
  {
   "cell_type": "markdown",
   "metadata": {},
   "source": [
    "### A nice DataFrame for the above array with 'randint'\n",
    "A,B,C,D,E are for the rows and W,X,Y,Z for the columns"
   ]
  },
  {
   "cell_type": "code",
   "execution_count": 341,
   "metadata": {},
   "outputs": [
    {
     "data": {
      "text/html": [
       "<div>\n",
       "<style scoped>\n",
       "    .dataframe tbody tr th:only-of-type {\n",
       "        vertical-align: middle;\n",
       "    }\n",
       "\n",
       "    .dataframe tbody tr th {\n",
       "        vertical-align: top;\n",
       "    }\n",
       "\n",
       "    .dataframe thead th {\n",
       "        text-align: right;\n",
       "    }\n",
       "</style>\n",
       "<table border=\"1\" class=\"dataframe\">\n",
       "  <thead>\n",
       "    <tr style=\"text-align: right;\">\n",
       "      <th></th>\n",
       "      <th>W</th>\n",
       "      <th>X</th>\n",
       "      <th>Y</th>\n",
       "      <th>Z</th>\n",
       "    </tr>\n",
       "  </thead>\n",
       "  <tbody>\n",
       "    <tr>\n",
       "      <th>A</th>\n",
       "      <td>19</td>\n",
       "      <td>2</td>\n",
       "      <td>12</td>\n",
       "      <td>8</td>\n",
       "    </tr>\n",
       "    <tr>\n",
       "      <th>B</th>\n",
       "      <td>19</td>\n",
       "      <td>10</td>\n",
       "      <td>12</td>\n",
       "      <td>11</td>\n",
       "    </tr>\n",
       "    <tr>\n",
       "      <th>C</th>\n",
       "      <td>0</td>\n",
       "      <td>9</td>\n",
       "      <td>9</td>\n",
       "      <td>15</td>\n",
       "    </tr>\n",
       "    <tr>\n",
       "      <th>D</th>\n",
       "      <td>8</td>\n",
       "      <td>4</td>\n",
       "      <td>19</td>\n",
       "      <td>3</td>\n",
       "    </tr>\n",
       "    <tr>\n",
       "      <th>E</th>\n",
       "      <td>7</td>\n",
       "      <td>10</td>\n",
       "      <td>7</td>\n",
       "      <td>6</td>\n",
       "    </tr>\n",
       "  </tbody>\n",
       "</table>\n",
       "</div>"
      ],
      "text/plain": [
       "    W   X   Y   Z\n",
       "A  19   2  12   8\n",
       "B  19  10  12  11\n",
       "C   0   9   9  15\n",
       "D   8   4  19   3\n",
       "E   7  10   7   6"
      ]
     },
     "execution_count": 341,
     "metadata": {},
     "output_type": "execute_result"
    }
   ],
   "source": [
    "pd.DataFrame(randint(0,20,20).reshape(5,4),['A','B','C','D','E'],['W','X','Y','Z'])"
   ]
  },
  {
   "cell_type": "markdown",
   "metadata": {},
   "source": [
    "## Using randn in the Dataframe"
   ]
  },
  {
   "cell_type": "code",
   "execution_count": 310,
   "metadata": {},
   "outputs": [
    {
     "data": {
      "text/plain": [
       "array([[-0.39746171,  1.26168798,  0.43333132, -0.1366137 ],\n",
       "       [ 0.88213984, -0.37781124,  0.1466388 ,  1.26912178],\n",
       "       [ 0.30788108, -0.60680554,  0.91931842, -1.1961184 ],\n",
       "       [ 0.50894522, -0.84843996,  2.01079346, -0.1376097 ],\n",
       "       [-0.59826923,  0.02823374,  0.39274608, -1.44169525]])"
      ]
     },
     "execution_count": 310,
     "metadata": {},
     "output_type": "execute_result"
    }
   ],
   "source": [
    "randn(5,4)"
   ]
  },
  {
   "cell_type": "markdown",
   "metadata": {},
   "source": [
    "### A nice DataFrame for the above array with 'randn'\n",
    "\n",
    "A,B,C,D,E are for the rows and W,X,Y,Z for the columns"
   ]
  },
  {
   "cell_type": "code",
   "execution_count": 311,
   "metadata": {},
   "outputs": [
    {
     "data": {
      "text/html": [
       "<div>\n",
       "<style scoped>\n",
       "    .dataframe tbody tr th:only-of-type {\n",
       "        vertical-align: middle;\n",
       "    }\n",
       "\n",
       "    .dataframe tbody tr th {\n",
       "        vertical-align: top;\n",
       "    }\n",
       "\n",
       "    .dataframe thead th {\n",
       "        text-align: right;\n",
       "    }\n",
       "</style>\n",
       "<table border=\"1\" class=\"dataframe\">\n",
       "  <thead>\n",
       "    <tr style=\"text-align: right;\">\n",
       "      <th></th>\n",
       "      <th>W</th>\n",
       "      <th>X</th>\n",
       "      <th>Y</th>\n",
       "      <th>Z</th>\n",
       "    </tr>\n",
       "  </thead>\n",
       "  <tbody>\n",
       "    <tr>\n",
       "      <th>A</th>\n",
       "      <td>0.000323</td>\n",
       "      <td>-1.049912</td>\n",
       "      <td>-0.229937</td>\n",
       "      <td>-1.283599</td>\n",
       "    </tr>\n",
       "    <tr>\n",
       "      <th>B</th>\n",
       "      <td>-2.711192</td>\n",
       "      <td>-1.522410</td>\n",
       "      <td>-1.416207</td>\n",
       "      <td>1.108544</td>\n",
       "    </tr>\n",
       "    <tr>\n",
       "      <th>C</th>\n",
       "      <td>1.131029</td>\n",
       "      <td>0.498600</td>\n",
       "      <td>1.179022</td>\n",
       "      <td>1.322684</td>\n",
       "    </tr>\n",
       "    <tr>\n",
       "      <th>D</th>\n",
       "      <td>1.852155</td>\n",
       "      <td>-0.892172</td>\n",
       "      <td>0.616861</td>\n",
       "      <td>-1.121822</td>\n",
       "    </tr>\n",
       "    <tr>\n",
       "      <th>E</th>\n",
       "      <td>1.652070</td>\n",
       "      <td>0.196925</td>\n",
       "      <td>0.103214</td>\n",
       "      <td>-0.147370</td>\n",
       "    </tr>\n",
       "  </tbody>\n",
       "</table>\n",
       "</div>"
      ],
      "text/plain": [
       "          W         X         Y         Z\n",
       "A  0.000323 -1.049912 -0.229937 -1.283599\n",
       "B -2.711192 -1.522410 -1.416207  1.108544\n",
       "C  1.131029  0.498600  1.179022  1.322684\n",
       "D  1.852155 -0.892172  0.616861 -1.121822\n",
       "E  1.652070  0.196925  0.103214 -0.147370"
      ]
     },
     "execution_count": 311,
     "metadata": {},
     "output_type": "execute_result"
    }
   ],
   "source": [
    "FRAME = pd.DataFrame(randn(5,4),['A','B','C','D','E'],['W','X','Y','Z'])\n",
    "FRAME"
   ]
  },
  {
   "cell_type": "markdown",
   "metadata": {},
   "source": [
    "## GRABBING COLUMNS FROM THE DATAFRAMES"
   ]
  },
  {
   "cell_type": "code",
   "execution_count": 312,
   "metadata": {},
   "outputs": [
    {
     "name": "stdout",
     "output_type": "stream",
     "text": [
      "A    0.000323\n",
      "B   -2.711192\n",
      "C    1.131029\n",
      "D    1.852155\n",
      "E    1.652070\n",
      "Name: W, dtype: float64\n",
      "\n",
      "A   -1.049912\n",
      "B   -1.522410\n",
      "C    0.498600\n",
      "D   -0.892172\n",
      "E    0.196925\n",
      "Name: X, dtype: float64\n",
      "\n",
      "A   -0.229937\n",
      "B   -1.416207\n",
      "C    1.179022\n",
      "D    0.616861\n",
      "E    0.103214\n",
      "Name: Y, dtype: float64\n",
      "\n",
      "A   -1.283599\n",
      "B    1.108544\n",
      "C    1.322684\n",
      "D   -1.121822\n",
      "E   -0.147370\n",
      "Name: Z, dtype: float64\n",
      "\n"
     ]
    }
   ],
   "source": [
    "print(f\"{FRAME['W']}\\n\") # for getting the row from \"W\" row\n",
    "print(f\"{FRAME['X']}\\n\") # for getting the row from \"X\" row\n",
    "print(f\"{FRAME['Y']}\\n\") # for getting the row from \"Y\" row\n",
    "print(f\"{FRAME['Z']}\\n\") # for getting the row from \"Z\" row"
   ]
  },
  {
   "cell_type": "code",
   "execution_count": 313,
   "metadata": {},
   "outputs": [
    {
     "data": {
      "text/html": [
       "<div>\n",
       "<style scoped>\n",
       "    .dataframe tbody tr th:only-of-type {\n",
       "        vertical-align: middle;\n",
       "    }\n",
       "\n",
       "    .dataframe tbody tr th {\n",
       "        vertical-align: top;\n",
       "    }\n",
       "\n",
       "    .dataframe thead th {\n",
       "        text-align: right;\n",
       "    }\n",
       "</style>\n",
       "<table border=\"1\" class=\"dataframe\">\n",
       "  <thead>\n",
       "    <tr style=\"text-align: right;\">\n",
       "      <th></th>\n",
       "      <th>W</th>\n",
       "      <th>Y</th>\n",
       "    </tr>\n",
       "  </thead>\n",
       "  <tbody>\n",
       "    <tr>\n",
       "      <th>A</th>\n",
       "      <td>0.000323</td>\n",
       "      <td>-0.229937</td>\n",
       "    </tr>\n",
       "    <tr>\n",
       "      <th>B</th>\n",
       "      <td>-2.711192</td>\n",
       "      <td>-1.416207</td>\n",
       "    </tr>\n",
       "    <tr>\n",
       "      <th>C</th>\n",
       "      <td>1.131029</td>\n",
       "      <td>1.179022</td>\n",
       "    </tr>\n",
       "    <tr>\n",
       "      <th>D</th>\n",
       "      <td>1.852155</td>\n",
       "      <td>0.616861</td>\n",
       "    </tr>\n",
       "    <tr>\n",
       "      <th>E</th>\n",
       "      <td>1.652070</td>\n",
       "      <td>0.103214</td>\n",
       "    </tr>\n",
       "  </tbody>\n",
       "</table>\n",
       "</div>"
      ],
      "text/plain": [
       "          W         Y\n",
       "A  0.000323 -0.229937\n",
       "B -2.711192 -1.416207\n",
       "C  1.131029  1.179022\n",
       "D  1.852155  0.616861\n",
       "E  1.652070  0.103214"
      ]
     },
     "execution_count": 313,
     "metadata": {},
     "output_type": "execute_result"
    }
   ],
   "source": [
    "FRAME[['W','Y']] # Grabbing multiple rows"
   ]
  },
  {
   "cell_type": "markdown",
   "metadata": {},
   "source": [
    "MEATHOD 1 OF GRABBING THE DATA \n",
    "recommanded meathod"
   ]
  },
  {
   "cell_type": "code",
   "execution_count": 314,
   "metadata": {},
   "outputs": [
    {
     "name": "stdout",
     "output_type": "stream",
     "text": [
      "A    0.000323\n",
      "B   -2.711192\n",
      "C    1.131029\n",
      "D    1.852155\n",
      "E    1.652070\n",
      "Name: W, dtype: float64\n",
      "\n",
      "A   -1.049912\n",
      "B   -1.522410\n",
      "C    0.498600\n",
      "D   -0.892172\n",
      "E    0.196925\n",
      "Name: X, dtype: float64\n",
      "\n",
      "A   -0.229937\n",
      "B   -1.416207\n",
      "C    1.179022\n",
      "D    0.616861\n",
      "E    0.103214\n",
      "Name: Y, dtype: float64\n",
      "\n",
      "A   -1.283599\n",
      "B    1.108544\n",
      "C    1.322684\n",
      "D   -1.121822\n",
      "E   -0.147370\n",
      "Name: Z, dtype: float64\n",
      "\n"
     ]
    }
   ],
   "source": [
    "print(f\"{FRAME.W}\\n\") # for getting the row from \"W\" row\n",
    "print(f\"{FRAME.X}\\n\") # for getting the row from \"X\" row\n",
    "print(f\"{FRAME.Y}\\n\") # for getting the row from \"Y\" row\n",
    "print(f\"{FRAME.Z}\\n\") # for getting the row from \"Z\" row"
   ]
  },
  {
   "cell_type": "markdown",
   "metadata": {},
   "source": [
    "MEATHOD 2 OF GRABBING THE DATA"
   ]
  },
  {
   "cell_type": "markdown",
   "metadata": {},
   "source": [
    "### NEW COLUMN making"
   ]
  },
  {
   "cell_type": "code",
   "execution_count": 315,
   "metadata": {},
   "outputs": [
    {
     "data": {
      "text/html": [
       "<div>\n",
       "<style scoped>\n",
       "    .dataframe tbody tr th:only-of-type {\n",
       "        vertical-align: middle;\n",
       "    }\n",
       "\n",
       "    .dataframe tbody tr th {\n",
       "        vertical-align: top;\n",
       "    }\n",
       "\n",
       "    .dataframe thead th {\n",
       "        text-align: right;\n",
       "    }\n",
       "</style>\n",
       "<table border=\"1\" class=\"dataframe\">\n",
       "  <thead>\n",
       "    <tr style=\"text-align: right;\">\n",
       "      <th></th>\n",
       "      <th>W</th>\n",
       "      <th>X</th>\n",
       "      <th>Y</th>\n",
       "      <th>Z</th>\n",
       "      <th>new</th>\n",
       "    </tr>\n",
       "  </thead>\n",
       "  <tbody>\n",
       "    <tr>\n",
       "      <th>A</th>\n",
       "      <td>0.000323</td>\n",
       "      <td>-1.049912</td>\n",
       "      <td>-0.229937</td>\n",
       "      <td>-1.283599</td>\n",
       "      <td>-1.049589</td>\n",
       "    </tr>\n",
       "    <tr>\n",
       "      <th>B</th>\n",
       "      <td>-2.711192</td>\n",
       "      <td>-1.522410</td>\n",
       "      <td>-1.416207</td>\n",
       "      <td>1.108544</td>\n",
       "      <td>-4.233602</td>\n",
       "    </tr>\n",
       "    <tr>\n",
       "      <th>C</th>\n",
       "      <td>1.131029</td>\n",
       "      <td>0.498600</td>\n",
       "      <td>1.179022</td>\n",
       "      <td>1.322684</td>\n",
       "      <td>1.629629</td>\n",
       "    </tr>\n",
       "    <tr>\n",
       "      <th>D</th>\n",
       "      <td>1.852155</td>\n",
       "      <td>-0.892172</td>\n",
       "      <td>0.616861</td>\n",
       "      <td>-1.121822</td>\n",
       "      <td>0.959983</td>\n",
       "    </tr>\n",
       "    <tr>\n",
       "      <th>E</th>\n",
       "      <td>1.652070</td>\n",
       "      <td>0.196925</td>\n",
       "      <td>0.103214</td>\n",
       "      <td>-0.147370</td>\n",
       "      <td>1.848996</td>\n",
       "    </tr>\n",
       "  </tbody>\n",
       "</table>\n",
       "</div>"
      ],
      "text/plain": [
       "          W         X         Y         Z       new\n",
       "A  0.000323 -1.049912 -0.229937 -1.283599 -1.049589\n",
       "B -2.711192 -1.522410 -1.416207  1.108544 -4.233602\n",
       "C  1.131029  0.498600  1.179022  1.322684  1.629629\n",
       "D  1.852155 -0.892172  0.616861 -1.121822  0.959983\n",
       "E  1.652070  0.196925  0.103214 -0.147370  1.848996"
      ]
     },
     "execution_count": 315,
     "metadata": {},
     "output_type": "execute_result"
    }
   ],
   "source": [
    "# Making of a new column in \"FRAME\" as 'new'\n",
    "FRAME['new'] = FRAME['W'] + FRAME['X'] \n",
    "FRAME"
   ]
  },
  {
   "cell_type": "code",
   "execution_count": 316,
   "metadata": {},
   "outputs": [
    {
     "data": {
      "text/html": [
       "<div>\n",
       "<style scoped>\n",
       "    .dataframe tbody tr th:only-of-type {\n",
       "        vertical-align: middle;\n",
       "    }\n",
       "\n",
       "    .dataframe tbody tr th {\n",
       "        vertical-align: top;\n",
       "    }\n",
       "\n",
       "    .dataframe thead th {\n",
       "        text-align: right;\n",
       "    }\n",
       "</style>\n",
       "<table border=\"1\" class=\"dataframe\">\n",
       "  <thead>\n",
       "    <tr style=\"text-align: right;\">\n",
       "      <th></th>\n",
       "      <th>W</th>\n",
       "      <th>X</th>\n",
       "      <th>Y</th>\n",
       "      <th>Z</th>\n",
       "    </tr>\n",
       "  </thead>\n",
       "  <tbody>\n",
       "    <tr>\n",
       "      <th>A</th>\n",
       "      <td>17</td>\n",
       "      <td>11</td>\n",
       "      <td>4</td>\n",
       "      <td>7</td>\n",
       "    </tr>\n",
       "    <tr>\n",
       "      <th>B</th>\n",
       "      <td>11</td>\n",
       "      <td>5</td>\n",
       "      <td>17</td>\n",
       "      <td>18</td>\n",
       "    </tr>\n",
       "    <tr>\n",
       "      <th>C</th>\n",
       "      <td>13</td>\n",
       "      <td>6</td>\n",
       "      <td>3</td>\n",
       "      <td>14</td>\n",
       "    </tr>\n",
       "    <tr>\n",
       "      <th>D</th>\n",
       "      <td>17</td>\n",
       "      <td>13</td>\n",
       "      <td>15</td>\n",
       "      <td>17</td>\n",
       "    </tr>\n",
       "    <tr>\n",
       "      <th>E</th>\n",
       "      <td>0</td>\n",
       "      <td>15</td>\n",
       "      <td>18</td>\n",
       "      <td>11</td>\n",
       "    </tr>\n",
       "  </tbody>\n",
       "</table>\n",
       "</div>"
      ],
      "text/plain": [
       "    W   X   Y   Z\n",
       "A  17  11   4   7\n",
       "B  11   5  17  18\n",
       "C  13   6   3  14\n",
       "D  17  13  15  17\n",
       "E   0  15  18  11"
      ]
     },
     "execution_count": 316,
     "metadata": {},
     "output_type": "execute_result"
    }
   ],
   "source": [
    "df = pd.DataFrame(randint(0,20,20).reshape(5,4),['A','B','C','D','E'],['W','X','Y','Z'])\n",
    "df # for further use"
   ]
  },
  {
   "cell_type": "code",
   "execution_count": 317,
   "metadata": {},
   "outputs": [
    {
     "data": {
      "text/html": [
       "<div>\n",
       "<style scoped>\n",
       "    .dataframe tbody tr th:only-of-type {\n",
       "        vertical-align: middle;\n",
       "    }\n",
       "\n",
       "    .dataframe tbody tr th {\n",
       "        vertical-align: top;\n",
       "    }\n",
       "\n",
       "    .dataframe thead th {\n",
       "        text-align: right;\n",
       "    }\n",
       "</style>\n",
       "<table border=\"1\" class=\"dataframe\">\n",
       "  <thead>\n",
       "    <tr style=\"text-align: right;\">\n",
       "      <th></th>\n",
       "      <th>W</th>\n",
       "      <th>X</th>\n",
       "      <th>Y</th>\n",
       "      <th>Z</th>\n",
       "      <th>addition</th>\n",
       "    </tr>\n",
       "  </thead>\n",
       "  <tbody>\n",
       "    <tr>\n",
       "      <th>A</th>\n",
       "      <td>17</td>\n",
       "      <td>11</td>\n",
       "      <td>4</td>\n",
       "      <td>7</td>\n",
       "      <td>39</td>\n",
       "    </tr>\n",
       "    <tr>\n",
       "      <th>B</th>\n",
       "      <td>11</td>\n",
       "      <td>5</td>\n",
       "      <td>17</td>\n",
       "      <td>18</td>\n",
       "      <td>51</td>\n",
       "    </tr>\n",
       "    <tr>\n",
       "      <th>C</th>\n",
       "      <td>13</td>\n",
       "      <td>6</td>\n",
       "      <td>3</td>\n",
       "      <td>14</td>\n",
       "      <td>36</td>\n",
       "    </tr>\n",
       "    <tr>\n",
       "      <th>D</th>\n",
       "      <td>17</td>\n",
       "      <td>13</td>\n",
       "      <td>15</td>\n",
       "      <td>17</td>\n",
       "      <td>62</td>\n",
       "    </tr>\n",
       "    <tr>\n",
       "      <th>E</th>\n",
       "      <td>0</td>\n",
       "      <td>15</td>\n",
       "      <td>18</td>\n",
       "      <td>11</td>\n",
       "      <td>44</td>\n",
       "    </tr>\n",
       "  </tbody>\n",
       "</table>\n",
       "</div>"
      ],
      "text/plain": [
       "    W   X   Y   Z  addition\n",
       "A  17  11   4   7        39\n",
       "B  11   5  17  18        51\n",
       "C  13   6   3  14        36\n",
       "D  17  13  15  17        62\n",
       "E   0  15  18  11        44"
      ]
     },
     "execution_count": 317,
     "metadata": {},
     "output_type": "execute_result"
    }
   ],
   "source": [
    "#Adding new column as \"addition\" of all the rows\n",
    "df['addition'] = df['W'] + df['X'] + df['Y'] + df['Z']\n",
    "df"
   ]
  },
  {
   "cell_type": "markdown",
   "metadata": {},
   "source": [
    "## Dropping a Column"
   ]
  },
  {
   "cell_type": "code",
   "execution_count": 318,
   "metadata": {},
   "outputs": [
    {
     "data": {
      "text/html": [
       "<div>\n",
       "<style scoped>\n",
       "    .dataframe tbody tr th:only-of-type {\n",
       "        vertical-align: middle;\n",
       "    }\n",
       "\n",
       "    .dataframe tbody tr th {\n",
       "        vertical-align: top;\n",
       "    }\n",
       "\n",
       "    .dataframe thead th {\n",
       "        text-align: right;\n",
       "    }\n",
       "</style>\n",
       "<table border=\"1\" class=\"dataframe\">\n",
       "  <thead>\n",
       "    <tr style=\"text-align: right;\">\n",
       "      <th></th>\n",
       "      <th>W</th>\n",
       "      <th>X</th>\n",
       "      <th>Y</th>\n",
       "      <th>Z</th>\n",
       "      <th>new</th>\n",
       "    </tr>\n",
       "  </thead>\n",
       "  <tbody>\n",
       "    <tr>\n",
       "      <th>A</th>\n",
       "      <td>0.000323</td>\n",
       "      <td>-1.049912</td>\n",
       "      <td>-0.229937</td>\n",
       "      <td>-1.283599</td>\n",
       "      <td>-1.049589</td>\n",
       "    </tr>\n",
       "    <tr>\n",
       "      <th>B</th>\n",
       "      <td>-2.711192</td>\n",
       "      <td>-1.522410</td>\n",
       "      <td>-1.416207</td>\n",
       "      <td>1.108544</td>\n",
       "      <td>-4.233602</td>\n",
       "    </tr>\n",
       "    <tr>\n",
       "      <th>C</th>\n",
       "      <td>1.131029</td>\n",
       "      <td>0.498600</td>\n",
       "      <td>1.179022</td>\n",
       "      <td>1.322684</td>\n",
       "      <td>1.629629</td>\n",
       "    </tr>\n",
       "    <tr>\n",
       "      <th>D</th>\n",
       "      <td>1.852155</td>\n",
       "      <td>-0.892172</td>\n",
       "      <td>0.616861</td>\n",
       "      <td>-1.121822</td>\n",
       "      <td>0.959983</td>\n",
       "    </tr>\n",
       "    <tr>\n",
       "      <th>E</th>\n",
       "      <td>1.652070</td>\n",
       "      <td>0.196925</td>\n",
       "      <td>0.103214</td>\n",
       "      <td>-0.147370</td>\n",
       "      <td>1.848996</td>\n",
       "    </tr>\n",
       "  </tbody>\n",
       "</table>\n",
       "</div>"
      ],
      "text/plain": [
       "          W         X         Y         Z       new\n",
       "A  0.000323 -1.049912 -0.229937 -1.283599 -1.049589\n",
       "B -2.711192 -1.522410 -1.416207  1.108544 -4.233602\n",
       "C  1.131029  0.498600  1.179022  1.322684  1.629629\n",
       "D  1.852155 -0.892172  0.616861 -1.121822  0.959983\n",
       "E  1.652070  0.196925  0.103214 -0.147370  1.848996"
      ]
     },
     "execution_count": 318,
     "metadata": {},
     "output_type": "execute_result"
    }
   ],
   "source": [
    "FRAME"
   ]
  },
  {
   "cell_type": "code",
   "execution_count": 319,
   "metadata": {},
   "outputs": [
    {
     "data": {
      "text/html": [
       "<div>\n",
       "<style scoped>\n",
       "    .dataframe tbody tr th:only-of-type {\n",
       "        vertical-align: middle;\n",
       "    }\n",
       "\n",
       "    .dataframe tbody tr th {\n",
       "        vertical-align: top;\n",
       "    }\n",
       "\n",
       "    .dataframe thead th {\n",
       "        text-align: right;\n",
       "    }\n",
       "</style>\n",
       "<table border=\"1\" class=\"dataframe\">\n",
       "  <thead>\n",
       "    <tr style=\"text-align: right;\">\n",
       "      <th></th>\n",
       "      <th>W</th>\n",
       "      <th>X</th>\n",
       "      <th>Y</th>\n",
       "      <th>Z</th>\n",
       "      <th>addition</th>\n",
       "    </tr>\n",
       "  </thead>\n",
       "  <tbody>\n",
       "    <tr>\n",
       "      <th>A</th>\n",
       "      <td>17</td>\n",
       "      <td>11</td>\n",
       "      <td>4</td>\n",
       "      <td>7</td>\n",
       "      <td>39</td>\n",
       "    </tr>\n",
       "    <tr>\n",
       "      <th>B</th>\n",
       "      <td>11</td>\n",
       "      <td>5</td>\n",
       "      <td>17</td>\n",
       "      <td>18</td>\n",
       "      <td>51</td>\n",
       "    </tr>\n",
       "    <tr>\n",
       "      <th>C</th>\n",
       "      <td>13</td>\n",
       "      <td>6</td>\n",
       "      <td>3</td>\n",
       "      <td>14</td>\n",
       "      <td>36</td>\n",
       "    </tr>\n",
       "    <tr>\n",
       "      <th>D</th>\n",
       "      <td>17</td>\n",
       "      <td>13</td>\n",
       "      <td>15</td>\n",
       "      <td>17</td>\n",
       "      <td>62</td>\n",
       "    </tr>\n",
       "    <tr>\n",
       "      <th>E</th>\n",
       "      <td>0</td>\n",
       "      <td>15</td>\n",
       "      <td>18</td>\n",
       "      <td>11</td>\n",
       "      <td>44</td>\n",
       "    </tr>\n",
       "  </tbody>\n",
       "</table>\n",
       "</div>"
      ],
      "text/plain": [
       "    W   X   Y   Z  addition\n",
       "A  17  11   4   7        39\n",
       "B  11   5  17  18        51\n",
       "C  13   6   3  14        36\n",
       "D  17  13  15  17        62\n",
       "E   0  15  18  11        44"
      ]
     },
     "execution_count": 319,
     "metadata": {},
     "output_type": "execute_result"
    }
   ],
   "source": [
    "df"
   ]
  },
  {
   "cell_type": "code",
   "execution_count": 320,
   "metadata": {},
   "outputs": [
    {
     "data": {
      "text/html": [
       "<div>\n",
       "<style scoped>\n",
       "    .dataframe tbody tr th:only-of-type {\n",
       "        vertical-align: middle;\n",
       "    }\n",
       "\n",
       "    .dataframe tbody tr th {\n",
       "        vertical-align: top;\n",
       "    }\n",
       "\n",
       "    .dataframe thead th {\n",
       "        text-align: right;\n",
       "    }\n",
       "</style>\n",
       "<table border=\"1\" class=\"dataframe\">\n",
       "  <thead>\n",
       "    <tr style=\"text-align: right;\">\n",
       "      <th></th>\n",
       "      <th>W</th>\n",
       "      <th>X</th>\n",
       "      <th>Y</th>\n",
       "      <th>Z</th>\n",
       "    </tr>\n",
       "  </thead>\n",
       "  <tbody>\n",
       "    <tr>\n",
       "      <th>A</th>\n",
       "      <td>0.000323</td>\n",
       "      <td>-1.049912</td>\n",
       "      <td>-0.229937</td>\n",
       "      <td>-1.283599</td>\n",
       "    </tr>\n",
       "    <tr>\n",
       "      <th>B</th>\n",
       "      <td>-2.711192</td>\n",
       "      <td>-1.522410</td>\n",
       "      <td>-1.416207</td>\n",
       "      <td>1.108544</td>\n",
       "    </tr>\n",
       "    <tr>\n",
       "      <th>C</th>\n",
       "      <td>1.131029</td>\n",
       "      <td>0.498600</td>\n",
       "      <td>1.179022</td>\n",
       "      <td>1.322684</td>\n",
       "    </tr>\n",
       "    <tr>\n",
       "      <th>D</th>\n",
       "      <td>1.852155</td>\n",
       "      <td>-0.892172</td>\n",
       "      <td>0.616861</td>\n",
       "      <td>-1.121822</td>\n",
       "    </tr>\n",
       "    <tr>\n",
       "      <th>E</th>\n",
       "      <td>1.652070</td>\n",
       "      <td>0.196925</td>\n",
       "      <td>0.103214</td>\n",
       "      <td>-0.147370</td>\n",
       "    </tr>\n",
       "  </tbody>\n",
       "</table>\n",
       "</div>"
      ],
      "text/plain": [
       "          W         X         Y         Z\n",
       "A  0.000323 -1.049912 -0.229937 -1.283599\n",
       "B -2.711192 -1.522410 -1.416207  1.108544\n",
       "C  1.131029  0.498600  1.179022  1.322684\n",
       "D  1.852155 -0.892172  0.616861 -1.121822\n",
       "E  1.652070  0.196925  0.103214 -0.147370"
      ]
     },
     "execution_count": 320,
     "metadata": {},
     "output_type": "execute_result"
    }
   ],
   "source": [
    "FRAME.drop('new', axis=1, inplace=False) # droppin that 'new' in FRAME\n",
    "# Note that this dosn't do anything with original FRAME\n",
    "# Here inplace is said to false as default"
   ]
  },
  {
   "cell_type": "code",
   "execution_count": 321,
   "metadata": {},
   "outputs": [
    {
     "data": {
      "text/html": [
       "<div>\n",
       "<style scoped>\n",
       "    .dataframe tbody tr th:only-of-type {\n",
       "        vertical-align: middle;\n",
       "    }\n",
       "\n",
       "    .dataframe tbody tr th {\n",
       "        vertical-align: top;\n",
       "    }\n",
       "\n",
       "    .dataframe thead th {\n",
       "        text-align: right;\n",
       "    }\n",
       "</style>\n",
       "<table border=\"1\" class=\"dataframe\">\n",
       "  <thead>\n",
       "    <tr style=\"text-align: right;\">\n",
       "      <th></th>\n",
       "      <th>W</th>\n",
       "      <th>X</th>\n",
       "      <th>Y</th>\n",
       "      <th>Z</th>\n",
       "      <th>new</th>\n",
       "    </tr>\n",
       "  </thead>\n",
       "  <tbody>\n",
       "    <tr>\n",
       "      <th>A</th>\n",
       "      <td>0.000323</td>\n",
       "      <td>-1.049912</td>\n",
       "      <td>-0.229937</td>\n",
       "      <td>-1.283599</td>\n",
       "      <td>-1.049589</td>\n",
       "    </tr>\n",
       "    <tr>\n",
       "      <th>B</th>\n",
       "      <td>-2.711192</td>\n",
       "      <td>-1.522410</td>\n",
       "      <td>-1.416207</td>\n",
       "      <td>1.108544</td>\n",
       "      <td>-4.233602</td>\n",
       "    </tr>\n",
       "    <tr>\n",
       "      <th>C</th>\n",
       "      <td>1.131029</td>\n",
       "      <td>0.498600</td>\n",
       "      <td>1.179022</td>\n",
       "      <td>1.322684</td>\n",
       "      <td>1.629629</td>\n",
       "    </tr>\n",
       "    <tr>\n",
       "      <th>D</th>\n",
       "      <td>1.852155</td>\n",
       "      <td>-0.892172</td>\n",
       "      <td>0.616861</td>\n",
       "      <td>-1.121822</td>\n",
       "      <td>0.959983</td>\n",
       "    </tr>\n",
       "    <tr>\n",
       "      <th>E</th>\n",
       "      <td>1.652070</td>\n",
       "      <td>0.196925</td>\n",
       "      <td>0.103214</td>\n",
       "      <td>-0.147370</td>\n",
       "      <td>1.848996</td>\n",
       "    </tr>\n",
       "  </tbody>\n",
       "</table>\n",
       "</div>"
      ],
      "text/plain": [
       "          W         X         Y         Z       new\n",
       "A  0.000323 -1.049912 -0.229937 -1.283599 -1.049589\n",
       "B -2.711192 -1.522410 -1.416207  1.108544 -4.233602\n",
       "C  1.131029  0.498600  1.179022  1.322684  1.629629\n",
       "D  1.852155 -0.892172  0.616861 -1.121822  0.959983\n",
       "E  1.652070  0.196925  0.103214 -0.147370  1.848996"
      ]
     },
     "execution_count": 321,
     "metadata": {},
     "output_type": "execute_result"
    }
   ],
   "source": [
    "FRAME # doesnt changed anything in this"
   ]
  },
  {
   "cell_type": "code",
   "execution_count": 322,
   "metadata": {},
   "outputs": [],
   "source": [
    "# Here inplace is set to true and done in the main 'FRAME' too\n",
    "FRAME.drop('new', axis=1, inplace=True) # dropping column"
   ]
  },
  {
   "cell_type": "code",
   "execution_count": 323,
   "metadata": {},
   "outputs": [
    {
     "data": {
      "text/html": [
       "<div>\n",
       "<style scoped>\n",
       "    .dataframe tbody tr th:only-of-type {\n",
       "        vertical-align: middle;\n",
       "    }\n",
       "\n",
       "    .dataframe tbody tr th {\n",
       "        vertical-align: top;\n",
       "    }\n",
       "\n",
       "    .dataframe thead th {\n",
       "        text-align: right;\n",
       "    }\n",
       "</style>\n",
       "<table border=\"1\" class=\"dataframe\">\n",
       "  <thead>\n",
       "    <tr style=\"text-align: right;\">\n",
       "      <th></th>\n",
       "      <th>W</th>\n",
       "      <th>X</th>\n",
       "      <th>Y</th>\n",
       "      <th>Z</th>\n",
       "    </tr>\n",
       "  </thead>\n",
       "  <tbody>\n",
       "    <tr>\n",
       "      <th>A</th>\n",
       "      <td>0.000323</td>\n",
       "      <td>-1.049912</td>\n",
       "      <td>-0.229937</td>\n",
       "      <td>-1.283599</td>\n",
       "    </tr>\n",
       "    <tr>\n",
       "      <th>B</th>\n",
       "      <td>-2.711192</td>\n",
       "      <td>-1.522410</td>\n",
       "      <td>-1.416207</td>\n",
       "      <td>1.108544</td>\n",
       "    </tr>\n",
       "    <tr>\n",
       "      <th>C</th>\n",
       "      <td>1.131029</td>\n",
       "      <td>0.498600</td>\n",
       "      <td>1.179022</td>\n",
       "      <td>1.322684</td>\n",
       "    </tr>\n",
       "    <tr>\n",
       "      <th>D</th>\n",
       "      <td>1.852155</td>\n",
       "      <td>-0.892172</td>\n",
       "      <td>0.616861</td>\n",
       "      <td>-1.121822</td>\n",
       "    </tr>\n",
       "    <tr>\n",
       "      <th>E</th>\n",
       "      <td>1.652070</td>\n",
       "      <td>0.196925</td>\n",
       "      <td>0.103214</td>\n",
       "      <td>-0.147370</td>\n",
       "    </tr>\n",
       "  </tbody>\n",
       "</table>\n",
       "</div>"
      ],
      "text/plain": [
       "          W         X         Y         Z\n",
       "A  0.000323 -1.049912 -0.229937 -1.283599\n",
       "B -2.711192 -1.522410 -1.416207  1.108544\n",
       "C  1.131029  0.498600  1.179022  1.322684\n",
       "D  1.852155 -0.892172  0.616861 -1.121822\n",
       "E  1.652070  0.196925  0.103214 -0.147370"
      ]
     },
     "execution_count": 323,
     "metadata": {},
     "output_type": "execute_result"
    }
   ],
   "source": [
    "FRAME"
   ]
  },
  {
   "cell_type": "markdown",
   "metadata": {},
   "source": [
    "## Dropping a Row"
   ]
  },
  {
   "cell_type": "code",
   "execution_count": 324,
   "metadata": {},
   "outputs": [
    {
     "data": {
      "text/html": [
       "<div>\n",
       "<style scoped>\n",
       "    .dataframe tbody tr th:only-of-type {\n",
       "        vertical-align: middle;\n",
       "    }\n",
       "\n",
       "    .dataframe tbody tr th {\n",
       "        vertical-align: top;\n",
       "    }\n",
       "\n",
       "    .dataframe thead th {\n",
       "        text-align: right;\n",
       "    }\n",
       "</style>\n",
       "<table border=\"1\" class=\"dataframe\">\n",
       "  <thead>\n",
       "    <tr style=\"text-align: right;\">\n",
       "      <th></th>\n",
       "      <th>W</th>\n",
       "      <th>X</th>\n",
       "      <th>Y</th>\n",
       "      <th>Z</th>\n",
       "    </tr>\n",
       "  </thead>\n",
       "  <tbody>\n",
       "    <tr>\n",
       "      <th>A</th>\n",
       "      <td>0.000323</td>\n",
       "      <td>-1.049912</td>\n",
       "      <td>-0.229937</td>\n",
       "      <td>-1.283599</td>\n",
       "    </tr>\n",
       "    <tr>\n",
       "      <th>B</th>\n",
       "      <td>-2.711192</td>\n",
       "      <td>-1.522410</td>\n",
       "      <td>-1.416207</td>\n",
       "      <td>1.108544</td>\n",
       "    </tr>\n",
       "    <tr>\n",
       "      <th>C</th>\n",
       "      <td>1.131029</td>\n",
       "      <td>0.498600</td>\n",
       "      <td>1.179022</td>\n",
       "      <td>1.322684</td>\n",
       "    </tr>\n",
       "    <tr>\n",
       "      <th>D</th>\n",
       "      <td>1.852155</td>\n",
       "      <td>-0.892172</td>\n",
       "      <td>0.616861</td>\n",
       "      <td>-1.121822</td>\n",
       "    </tr>\n",
       "  </tbody>\n",
       "</table>\n",
       "</div>"
      ],
      "text/plain": [
       "          W         X         Y         Z\n",
       "A  0.000323 -1.049912 -0.229937 -1.283599\n",
       "B -2.711192 -1.522410 -1.416207  1.108544\n",
       "C  1.131029  0.498600  1.179022  1.322684\n",
       "D  1.852155 -0.892172  0.616861 -1.121822"
      ]
     },
     "execution_count": 324,
     "metadata": {},
     "output_type": "execute_result"
    }
   ],
   "source": [
    "# axis=0 is a row but it is default if 'E' is a row\n",
    "FRAME.drop('E', axis=0)"
   ]
  },
  {
   "cell_type": "code",
   "execution_count": 325,
   "metadata": {},
   "outputs": [
    {
     "data": {
      "text/html": [
       "<div>\n",
       "<style scoped>\n",
       "    .dataframe tbody tr th:only-of-type {\n",
       "        vertical-align: middle;\n",
       "    }\n",
       "\n",
       "    .dataframe tbody tr th {\n",
       "        vertical-align: top;\n",
       "    }\n",
       "\n",
       "    .dataframe thead th {\n",
       "        text-align: right;\n",
       "    }\n",
       "</style>\n",
       "<table border=\"1\" class=\"dataframe\">\n",
       "  <thead>\n",
       "    <tr style=\"text-align: right;\">\n",
       "      <th></th>\n",
       "      <th>W</th>\n",
       "      <th>X</th>\n",
       "      <th>Y</th>\n",
       "      <th>Z</th>\n",
       "    </tr>\n",
       "  </thead>\n",
       "  <tbody>\n",
       "    <tr>\n",
       "      <th>A</th>\n",
       "      <td>0.000323</td>\n",
       "      <td>-1.049912</td>\n",
       "      <td>-0.229937</td>\n",
       "      <td>-1.283599</td>\n",
       "    </tr>\n",
       "    <tr>\n",
       "      <th>B</th>\n",
       "      <td>-2.711192</td>\n",
       "      <td>-1.522410</td>\n",
       "      <td>-1.416207</td>\n",
       "      <td>1.108544</td>\n",
       "    </tr>\n",
       "    <tr>\n",
       "      <th>C</th>\n",
       "      <td>1.131029</td>\n",
       "      <td>0.498600</td>\n",
       "      <td>1.179022</td>\n",
       "      <td>1.322684</td>\n",
       "    </tr>\n",
       "    <tr>\n",
       "      <th>D</th>\n",
       "      <td>1.852155</td>\n",
       "      <td>-0.892172</td>\n",
       "      <td>0.616861</td>\n",
       "      <td>-1.121822</td>\n",
       "    </tr>\n",
       "    <tr>\n",
       "      <th>E</th>\n",
       "      <td>1.652070</td>\n",
       "      <td>0.196925</td>\n",
       "      <td>0.103214</td>\n",
       "      <td>-0.147370</td>\n",
       "    </tr>\n",
       "  </tbody>\n",
       "</table>\n",
       "</div>"
      ],
      "text/plain": [
       "          W         X         Y         Z\n",
       "A  0.000323 -1.049912 -0.229937 -1.283599\n",
       "B -2.711192 -1.522410 -1.416207  1.108544\n",
       "C  1.131029  0.498600  1.179022  1.322684\n",
       "D  1.852155 -0.892172  0.616861 -1.121822\n",
       "E  1.652070  0.196925  0.103214 -0.147370"
      ]
     },
     "execution_count": 325,
     "metadata": {},
     "output_type": "execute_result"
    }
   ],
   "source": [
    "FRAME # not changed in the main FRAME"
   ]
  },
  {
   "cell_type": "code",
   "execution_count": 326,
   "metadata": {},
   "outputs": [],
   "source": [
    "# Dropping a row in the main FRAME too\n",
    "FRAME.drop('E', axis=0, inplace=True)"
   ]
  },
  {
   "cell_type": "code",
   "execution_count": 327,
   "metadata": {},
   "outputs": [
    {
     "data": {
      "text/html": [
       "<div>\n",
       "<style scoped>\n",
       "    .dataframe tbody tr th:only-of-type {\n",
       "        vertical-align: middle;\n",
       "    }\n",
       "\n",
       "    .dataframe tbody tr th {\n",
       "        vertical-align: top;\n",
       "    }\n",
       "\n",
       "    .dataframe thead th {\n",
       "        text-align: right;\n",
       "    }\n",
       "</style>\n",
       "<table border=\"1\" class=\"dataframe\">\n",
       "  <thead>\n",
       "    <tr style=\"text-align: right;\">\n",
       "      <th></th>\n",
       "      <th>W</th>\n",
       "      <th>X</th>\n",
       "      <th>Y</th>\n",
       "      <th>Z</th>\n",
       "    </tr>\n",
       "  </thead>\n",
       "  <tbody>\n",
       "    <tr>\n",
       "      <th>A</th>\n",
       "      <td>0.000323</td>\n",
       "      <td>-1.049912</td>\n",
       "      <td>-0.229937</td>\n",
       "      <td>-1.283599</td>\n",
       "    </tr>\n",
       "    <tr>\n",
       "      <th>B</th>\n",
       "      <td>-2.711192</td>\n",
       "      <td>-1.522410</td>\n",
       "      <td>-1.416207</td>\n",
       "      <td>1.108544</td>\n",
       "    </tr>\n",
       "    <tr>\n",
       "      <th>C</th>\n",
       "      <td>1.131029</td>\n",
       "      <td>0.498600</td>\n",
       "      <td>1.179022</td>\n",
       "      <td>1.322684</td>\n",
       "    </tr>\n",
       "    <tr>\n",
       "      <th>D</th>\n",
       "      <td>1.852155</td>\n",
       "      <td>-0.892172</td>\n",
       "      <td>0.616861</td>\n",
       "      <td>-1.121822</td>\n",
       "    </tr>\n",
       "  </tbody>\n",
       "</table>\n",
       "</div>"
      ],
      "text/plain": [
       "          W         X         Y         Z\n",
       "A  0.000323 -1.049912 -0.229937 -1.283599\n",
       "B -2.711192 -1.522410 -1.416207  1.108544\n",
       "C  1.131029  0.498600  1.179022  1.322684\n",
       "D  1.852155 -0.892172  0.616861 -1.121822"
      ]
     },
     "execution_count": 327,
     "metadata": {},
     "output_type": "execute_result"
    }
   ],
   "source": [
    "FRAME"
   ]
  },
  {
   "cell_type": "code",
   "execution_count": 328,
   "metadata": {},
   "outputs": [
    {
     "data": {
      "text/plain": [
       "(4, 4)"
      ]
     },
     "execution_count": 328,
     "metadata": {},
     "output_type": "execute_result"
    }
   ],
   "source": [
    "# Note that rows represent at axis=0, columns at axis=1\n",
    "FRAME.shape "
   ]
  },
  {
   "cell_type": "markdown",
   "metadata": {},
   "source": [
    "This will tell the shape of a dataframe"
   ]
  },
  {
   "cell_type": "markdown",
   "metadata": {},
   "source": [
    "## GRABBING ROWS FROM THE DATAFRAMES"
   ]
  },
  {
   "cell_type": "code",
   "execution_count": 329,
   "metadata": {},
   "outputs": [
    {
     "data": {
      "text/html": [
       "<div>\n",
       "<style scoped>\n",
       "    .dataframe tbody tr th:only-of-type {\n",
       "        vertical-align: middle;\n",
       "    }\n",
       "\n",
       "    .dataframe tbody tr th {\n",
       "        vertical-align: top;\n",
       "    }\n",
       "\n",
       "    .dataframe thead th {\n",
       "        text-align: right;\n",
       "    }\n",
       "</style>\n",
       "<table border=\"1\" class=\"dataframe\">\n",
       "  <thead>\n",
       "    <tr style=\"text-align: right;\">\n",
       "      <th></th>\n",
       "      <th>W</th>\n",
       "      <th>X</th>\n",
       "      <th>Y</th>\n",
       "      <th>Z</th>\n",
       "      <th>addition</th>\n",
       "    </tr>\n",
       "  </thead>\n",
       "  <tbody>\n",
       "    <tr>\n",
       "      <th>A</th>\n",
       "      <td>17</td>\n",
       "      <td>11</td>\n",
       "      <td>4</td>\n",
       "      <td>7</td>\n",
       "      <td>39</td>\n",
       "    </tr>\n",
       "    <tr>\n",
       "      <th>B</th>\n",
       "      <td>11</td>\n",
       "      <td>5</td>\n",
       "      <td>17</td>\n",
       "      <td>18</td>\n",
       "      <td>51</td>\n",
       "    </tr>\n",
       "    <tr>\n",
       "      <th>C</th>\n",
       "      <td>13</td>\n",
       "      <td>6</td>\n",
       "      <td>3</td>\n",
       "      <td>14</td>\n",
       "      <td>36</td>\n",
       "    </tr>\n",
       "    <tr>\n",
       "      <th>D</th>\n",
       "      <td>17</td>\n",
       "      <td>13</td>\n",
       "      <td>15</td>\n",
       "      <td>17</td>\n",
       "      <td>62</td>\n",
       "    </tr>\n",
       "    <tr>\n",
       "      <th>E</th>\n",
       "      <td>0</td>\n",
       "      <td>15</td>\n",
       "      <td>18</td>\n",
       "      <td>11</td>\n",
       "      <td>44</td>\n",
       "    </tr>\n",
       "  </tbody>\n",
       "</table>\n",
       "</div>"
      ],
      "text/plain": [
       "    W   X   Y   Z  addition\n",
       "A  17  11   4   7        39\n",
       "B  11   5  17  18        51\n",
       "C  13   6   3  14        36\n",
       "D  17  13  15  17        62\n",
       "E   0  15  18  11        44"
      ]
     },
     "execution_count": 329,
     "metadata": {},
     "output_type": "execute_result"
    }
   ],
   "source": [
    "df"
   ]
  },
  {
   "cell_type": "markdown",
   "metadata": {},
   "source": [
    "#### MEATHOD 1"
   ]
  },
  {
   "cell_type": "code",
   "execution_count": 330,
   "metadata": {},
   "outputs": [],
   "source": [
    "ROW_A = df.loc['A'] # row \"A\"\n",
    "ROW_B = df.loc['B'] # row \"B\"\n",
    "ROW_C = df.loc['C'] # row \"C\"\n",
    "ROW_D = df.loc['D'] # row \"D\"\n",
    "ROW_E = df.loc['E'] # row \"E\""
   ]
  },
  {
   "cell_type": "code",
   "execution_count": 331,
   "metadata": {},
   "outputs": [
    {
     "name": "stdout",
     "output_type": "stream",
     "text": [
      "\n",
      " Row A: \n",
      "\n",
      " W           17\n",
      "X           11\n",
      "Y            4\n",
      "Z            7\n",
      "addition    39\n",
      "Name: A, dtype: int32\n",
      "\n",
      " Row B: \n",
      "\n",
      " W           11\n",
      "X            5\n",
      "Y           17\n",
      "Z           18\n",
      "addition    51\n",
      "Name: B, dtype: int32\n",
      "\n",
      " Row C: \n",
      "\n",
      " W           13\n",
      "X            6\n",
      "Y            3\n",
      "Z           14\n",
      "addition    36\n",
      "Name: C, dtype: int32\n",
      "\n",
      " Row D: \n",
      "\n",
      " W           17\n",
      "X           13\n",
      "Y           15\n",
      "Z           17\n",
      "addition    62\n",
      "Name: D, dtype: int32\n",
      "\n",
      " Row E: \n",
      "\n",
      " W            0\n",
      "X           15\n",
      "Y           18\n",
      "Z           11\n",
      "addition    44\n",
      "Name: E, dtype: int32\n"
     ]
    }
   ],
   "source": [
    "print(f'\\n Row A: \\n\\n {ROW_A}')\n",
    "print(f'\\n Row B: \\n\\n {ROW_B}')\n",
    "print(f'\\n Row C: \\n\\n {ROW_C}')\n",
    "print(f'\\n Row D: \\n\\n {ROW_D}')\n",
    "print(f'\\n Row E: \\n\\n {ROW_E}')"
   ]
  },
  {
   "cell_type": "markdown",
   "metadata": {},
   "source": [
    "#### MEATHOD 2\n",
    "BY PASSING THE INDEX OF THAT ROW YOU WANT"
   ]
  },
  {
   "cell_type": "code",
   "execution_count": 332,
   "metadata": {},
   "outputs": [],
   "source": [
    "row_A = df.iloc[0] # Here it is 'A'\n",
    "row_B = df.iloc[1] # Here it is 'B'\n",
    "row_C = df.iloc[2] # Here it is 'C'\n",
    "row_D = df.iloc[3] # Here it is 'D'\n",
    "row_E = df.iloc[4] # Here it is 'E'"
   ]
  },
  {
   "cell_type": "code",
   "execution_count": 333,
   "metadata": {},
   "outputs": [
    {
     "name": "stdout",
     "output_type": "stream",
     "text": [
      "\n",
      " Row A: \n",
      "\n",
      " W           17\n",
      "X           11\n",
      "Y            4\n",
      "Z            7\n",
      "addition    39\n",
      "Name: A, dtype: int32\n",
      "\n",
      " Row B: \n",
      "\n",
      " W           11\n",
      "X            5\n",
      "Y           17\n",
      "Z           18\n",
      "addition    51\n",
      "Name: B, dtype: int32\n",
      "\n",
      " Row C: \n",
      "\n",
      " W           13\n",
      "X            6\n",
      "Y            3\n",
      "Z           14\n",
      "addition    36\n",
      "Name: C, dtype: int32\n",
      "\n",
      " Row D: \n",
      "\n",
      " W           17\n",
      "X           13\n",
      "Y           15\n",
      "Z           17\n",
      "addition    62\n",
      "Name: D, dtype: int32\n",
      "\n",
      " Row E: \n",
      "\n",
      " W            0\n",
      "X           15\n",
      "Y           18\n",
      "Z           11\n",
      "addition    44\n",
      "Name: E, dtype: int32\n"
     ]
    }
   ],
   "source": [
    "print(f'\\n Row A: \\n\\n {row_A}')\n",
    "print(f'\\n Row B: \\n\\n {row_B}')\n",
    "print(f'\\n Row C: \\n\\n {row_C}')\n",
    "print(f'\\n Row D: \\n\\n {row_D}')\n",
    "print(f'\\n Row E: \\n\\n {row_E}')"
   ]
  },
  {
   "cell_type": "markdown",
   "metadata": {},
   "source": [
    "## Grabbing information from the DATASET"
   ]
  },
  {
   "cell_type": "code",
   "execution_count": 334,
   "metadata": {},
   "outputs": [
    {
     "data": {
      "text/html": [
       "<div>\n",
       "<style scoped>\n",
       "    .dataframe tbody tr th:only-of-type {\n",
       "        vertical-align: middle;\n",
       "    }\n",
       "\n",
       "    .dataframe tbody tr th {\n",
       "        vertical-align: top;\n",
       "    }\n",
       "\n",
       "    .dataframe thead th {\n",
       "        text-align: right;\n",
       "    }\n",
       "</style>\n",
       "<table border=\"1\" class=\"dataframe\">\n",
       "  <thead>\n",
       "    <tr style=\"text-align: right;\">\n",
       "      <th></th>\n",
       "      <th>W</th>\n",
       "      <th>X</th>\n",
       "      <th>Y</th>\n",
       "      <th>Z</th>\n",
       "      <th>addition</th>\n",
       "    </tr>\n",
       "  </thead>\n",
       "  <tbody>\n",
       "    <tr>\n",
       "      <th>A</th>\n",
       "      <td>17</td>\n",
       "      <td>11</td>\n",
       "      <td>4</td>\n",
       "      <td>7</td>\n",
       "      <td>39</td>\n",
       "    </tr>\n",
       "    <tr>\n",
       "      <th>B</th>\n",
       "      <td>11</td>\n",
       "      <td>5</td>\n",
       "      <td>17</td>\n",
       "      <td>18</td>\n",
       "      <td>51</td>\n",
       "    </tr>\n",
       "    <tr>\n",
       "      <th>C</th>\n",
       "      <td>13</td>\n",
       "      <td>6</td>\n",
       "      <td>3</td>\n",
       "      <td>14</td>\n",
       "      <td>36</td>\n",
       "    </tr>\n",
       "    <tr>\n",
       "      <th>D</th>\n",
       "      <td>17</td>\n",
       "      <td>13</td>\n",
       "      <td>15</td>\n",
       "      <td>17</td>\n",
       "      <td>62</td>\n",
       "    </tr>\n",
       "    <tr>\n",
       "      <th>E</th>\n",
       "      <td>0</td>\n",
       "      <td>15</td>\n",
       "      <td>18</td>\n",
       "      <td>11</td>\n",
       "      <td>44</td>\n",
       "    </tr>\n",
       "  </tbody>\n",
       "</table>\n",
       "</div>"
      ],
      "text/plain": [
       "    W   X   Y   Z  addition\n",
       "A  17  11   4   7        39\n",
       "B  11   5  17  18        51\n",
       "C  13   6   3  14        36\n",
       "D  17  13  15  17        62\n",
       "E   0  15  18  11        44"
      ]
     },
     "execution_count": 334,
     "metadata": {},
     "output_type": "execute_result"
    }
   ],
   "source": [
    "df"
   ]
  },
  {
   "cell_type": "code",
   "execution_count": 335,
   "metadata": {},
   "outputs": [
    {
     "data": {
      "text/plain": [
       "17"
      ]
     },
     "execution_count": 335,
     "metadata": {},
     "output_type": "execute_result"
    }
   ],
   "source": [
    "# row - B, col - Y\n",
    "df.loc['B','Y']"
   ]
  },
  {
   "cell_type": "code",
   "execution_count": 336,
   "metadata": {},
   "outputs": [
    {
     "data": {
      "text/html": [
       "<div>\n",
       "<style scoped>\n",
       "    .dataframe tbody tr th:only-of-type {\n",
       "        vertical-align: middle;\n",
       "    }\n",
       "\n",
       "    .dataframe tbody tr th {\n",
       "        vertical-align: top;\n",
       "    }\n",
       "\n",
       "    .dataframe thead th {\n",
       "        text-align: right;\n",
       "    }\n",
       "</style>\n",
       "<table border=\"1\" class=\"dataframe\">\n",
       "  <thead>\n",
       "    <tr style=\"text-align: right;\">\n",
       "      <th></th>\n",
       "      <th>W</th>\n",
       "      <th>Y</th>\n",
       "    </tr>\n",
       "  </thead>\n",
       "  <tbody>\n",
       "    <tr>\n",
       "      <th>A</th>\n",
       "      <td>17</td>\n",
       "      <td>4</td>\n",
       "    </tr>\n",
       "    <tr>\n",
       "      <th>C</th>\n",
       "      <td>13</td>\n",
       "      <td>3</td>\n",
       "    </tr>\n",
       "  </tbody>\n",
       "</table>\n",
       "</div>"
      ],
      "text/plain": [
       "    W  Y\n",
       "A  17  4\n",
       "C  13  3"
      ]
     },
     "execution_count": 336,
     "metadata": {},
     "output_type": "execute_result"
    }
   ],
   "source": [
    "df.loc[['A','C'], ['W','Y']] # Multiple data from the dataset"
   ]
  }
 ],
 "metadata": {
  "kernelspec": {
   "display_name": "Python 3",
   "language": "python",
   "name": "python3"
  },
  "language_info": {
   "codemirror_mode": {
    "name": "ipython",
    "version": 3
   },
   "file_extension": ".py",
   "mimetype": "text/x-python",
   "name": "python",
   "nbconvert_exporter": "python",
   "pygments_lexer": "ipython3",
   "version": "3.7.6"
  }
 },
 "nbformat": 4,
 "nbformat_minor": 4
}
